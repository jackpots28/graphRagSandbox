{
 "cells": [
  {
   "cell_type": "code",
   "execution_count": null,
   "id": "initial_id",
   "metadata": {
    "ExecuteTime": {
     "end_time": "2024-08-22T17:52:21.880367Z",
     "start_time": "2024-08-22T17:52:21.874561Z"
    }
   },
   "outputs": [],
   "source": [
    "from langchain_community.embeddings import OllamaEmbeddings\n",
    "from langchain_community.document_loaders import Docx2txtLoader\n",
    "from langchain_community.vectorstores import Neo4jVector\n",
    "from langchain_community.chat_models import ChatOllama\n",
    "\n",
    "from langchain_text_splitters import CharacterTextSplitter, RecursiveCharacterTextSplitter, NLTKTextSplitter\n",
    "from langchain_core.prompts import PromptTemplate\n",
    "from langchain.chains import RetrievalQAWithSourcesChain\n",
    "from langchain.memory import ConversationBufferMemory\n",
    "\n",
    "\n",
    "from neo4j import GraphDatabase\n",
    "from neo4j import exceptions\n",
    "\n",
    "from pathlib import Path\n",
    "import os\n",
    "import sys\n"
   ]
  },
  {
   "cell_type": "code",
   "execution_count": null,
   "id": "bf6ead3c53095ed9",
   "metadata": {
    "ExecuteTime": {
     "end_time": "2024-08-22T17:52:22.378688Z",
     "start_time": "2024-08-22T17:52:21.885956Z"
    }
   },
   "outputs": [],
   "source": [
    "os.environ['NEO4J_DRIV_PORT'] = '7687'\n",
    "os.environ['NEO4J_HTTP_PORT'] = '7474'\n",
    "os.environ['NEO4J_USERNAME'] = 'neo4j'\n",
    "os.environ['NEO4J_PASSWORD'] = 'temp_password123'\n",
    "\n",
    "!echo ${NEO4J_DRIV_PORT}\n",
    "!echo ${NEO4J_HTTP_PORT}\n",
    "!echo ${NEO4J_USERNAME}\n",
    "!echo ${NEO4J_PASSWORD}"
   ]
  },
  {
   "cell_type": "code",
   "execution_count": null,
   "id": "1bde8712c3007213",
   "metadata": {
    "ExecuteTime": {
     "end_time": "2024-08-22T17:52:23.299020Z",
     "start_time": "2024-08-22T17:52:22.381712Z"
    }
   },
   "outputs": [],
   "source": [
    "!docker ps -a | grep -ie neo4j | awk '{print $1}' | xargs -I{} docker rm {} -f\n",
    "!docker ps -a | grep -ie neo4j\n",
    "!docker run -d --restart always --publish=${NEO4J_HTTP_PORT}:${NEO4J_HTTP_PORT} --publish=${NEO4J_DRIV_PORT}:${NEO4J_DRIV_PORT} --env NEO4J_AUTH=${NEO4J_USERNAME}/${NEO4J_PASSWORD} neo4j:latest\n",
    "!docker ps -a | grep -ie neo4j"
   ]
  },
  {
   "cell_type": "code",
   "execution_count": null,
   "id": "e9a5a76de1c4c767",
   "metadata": {
    "ExecuteTime": {
     "end_time": "2024-08-22T17:52:23.301917Z",
     "start_time": "2024-08-22T17:52:23.299845Z"
    }
   },
   "outputs": [],
   "source": [
    "ollama_emb = OllamaEmbeddings(\n",
    "    model=\"llama3:latest\",\n",
    ")"
   ]
  },
  {
   "cell_type": "code",
   "execution_count": null,
   "id": "5bb1ca60b67ed17",
   "metadata": {
    "ExecuteTime": {
     "end_time": "2024-08-22T17:52:23.355226Z",
     "start_time": "2024-08-22T17:52:23.303042Z"
    }
   },
   "outputs": [],
   "source": [
    "documents_dictionary_struct = {\n",
    "    \"smartbear\": Path(\"/Volumes/stuff/graphRagSandbox/assets/SmartBear_TOU-10FEB2023.docx\"),\n",
    "    \"shrekmovie\": Path(\"/Volumes/stuff/general_playground/assets/the_entire_shrek_script.txt\"),\n",
    "    \"dantesinferno\": Path(\"/Volumes/stuff/general_playground/assets/dantes_inferno_all_chp.txt\")\n",
    "}\n",
    "\n",
    "# loader = TextLoader(smart_bear_contract)\n",
    "docx_loader = Docx2txtLoader(documents_dictionary_struct[\"smartbear\"])\n",
    "documents = docx_loader.load()\n",
    "\n",
    "text_splitter = NLTKTextSplitter(chunk_size=1500, chunk_overlap=20, separator=\". \")\n",
    "recursive_splitter = RecursiveCharacterTextSplitter(chunk_size=120, chunk_overlap=20, separators=['\\n\\n', \"\\n\", \".\"], length_function=len)\n",
    "\n",
    "nltk_docs = text_splitter.split_documents(documents)\n",
    "rec_docs = recursive_splitter.split_documents(documents)\n",
    "rec_docs"
   ]
  },
  {
   "cell_type": "code",
   "execution_count": null,
   "id": "163a7d4546ac5f3f",
   "metadata": {
    "ExecuteTime": {
     "end_time": "2024-08-22T17:52:23.358542Z",
     "start_time": "2024-08-22T17:52:23.356297Z"
    }
   },
   "outputs": [],
   "source": [
    "doc_name_only = documents_dictionary_struct[\"smartbear\"].with_suffix(\"\").name\n",
    "\n",
    "for k,v in rec_docs[0]:\n",
    "    print(v)"
   ]
  },
  {
   "cell_type": "code",
   "execution_count": null,
   "id": "32237dfcf4b43ed7",
   "metadata": {
    "ExecuteTime": {
     "end_time": "2024-08-22T17:52:23.360770Z",
     "start_time": "2024-08-22T17:52:23.359109Z"
    }
   },
   "outputs": [],
   "source": [
    "URI = f'neo4j://localhost:{os.environ['NEO4J_DRIV_PORT']}'\n",
    "USERNAME = os.environ['NEO4J_USERNAME']\n",
    "PASSWORD = os.environ['NEO4J_PASSWORD']"
   ]
  },
  {
   "cell_type": "code",
   "execution_count": null,
   "id": "6cce50230aedfc06",
   "metadata": {
    "ExecuteTime": {
     "end_time": "2024-08-22T17:54:16.030359Z",
     "start_time": "2024-08-22T17:52:23.361216Z"
    }
   },
   "outputs": [],
   "source": [
    "driver = GraphDatabase.driver(URI, auth=(USERNAME, PASSWORD))\n",
    "\n",
    "db = Neo4jVector.from_documents(\n",
    "    rec_docs, ollama_emb, url=URI, username=USERNAME, password=PASSWORD\n",
    ")"
   ]
  },
  {
   "cell_type": "code",
   "execution_count": null,
   "id": "b65df431ddad02d3",
   "metadata": {
    "ExecuteTime": {
     "end_time": "2024-08-22T17:54:16.232284Z",
     "start_time": "2024-08-22T17:54:16.046684Z"
    }
   },
   "outputs": [],
   "source": [
    "query_count: list = []\n",
    "graph_db_index_create: str = \"CREATE FULLTEXT INDEX text_index IF NOT EXISTS FOR (n:Chunk) ON EACH[n.text]\"\n",
    "\n",
    "with driver.session() as session:\n",
    "    # session.run(\"CREATE FULLTEXT INDEX text_index IF NOT EXISTS FOR (n:Chunk) ON EACH[n.text]\")\n",
    "    try:\n",
    "        result = session.run(\"CALL db.index.fulltext.queryNodes(\\\"text_index\\\", \\\".\\\") YIELD node RETURN node.id\")\n",
    "        for node in result:\n",
    "            query_count.append(node)\n",
    "    except exceptions.ClientError as e:\n",
    "        print(f\"FULLTEXT INDEX - Not Present\")\n",
    "        print(e)\n",
    "    finally:\n",
    "        session.run(graph_db_index_create)\n",
    "        print(f\"text_index - Created\")\n",
    "    "
   ]
  },
  {
   "cell_type": "code",
   "execution_count": null,
   "id": "afd3763197021b42",
   "metadata": {
    "ExecuteTime": {
     "end_time": "2024-08-22T17:54:16.689696Z",
     "start_time": "2024-08-22T17:54:16.233128Z"
    }
   },
   "outputs": [],
   "source": [
    "index_name = \"vector\"\n",
    "keyword_index_name = \"text_index\"\n",
    "search_type = \"hybrid\"\n",
    "\n",
    "store = Neo4jVector.from_existing_index(\n",
    "    ollama_emb,\n",
    "    url=URI,\n",
    "    username=USERNAME,\n",
    "    password=PASSWORD,\n",
    "    index_name=index_name,\n",
    "    keyword_index_name=keyword_index_name,\n",
    "    search_type=search_type,\n",
    ")\n",
    "\n",
    "retriever = store.as_retriever()"
   ]
  },
  {
   "cell_type": "code",
   "execution_count": null,
   "id": "9066c400fc7cf971",
   "metadata": {
    "ExecuteTime": {
     "end_time": "2024-08-22T18:28:07.521974Z",
     "start_time": "2024-08-22T18:28:07.516712Z"
    }
   },
   "outputs": [],
   "source": [
    "prompt_template = \"\"\"You will be give a list of phrases to search for within the context provided. Strictly follow these outlined rules when producing answers:\n",
    "1. If you don't know the answer, don't try to make up an answer. Just answer with NULL.\n",
    "2. If you find the answer, only respond with a list of complete sentences that pertain to the provided phrases in the following format: [sentence1, sentence2, ...]\n",
    "\n",
    "This document pertains to: {context}\n",
    "\n",
    "Question: {question}\n",
    "\n",
    "Answer:\n",
    "\n",
    "{summaries}\"\"\"\n",
    "\n",
    "PROMPT = PromptTemplate(\n",
    "    template=prompt_template, input_variables=[\"context\", \"question\", \"summaries\"]\n",
    ")"
   ]
  },
  {
   "cell_type": "code",
   "execution_count": null,
   "id": "8563bd02fc1fd0aa",
   "metadata": {
    "ExecuteTime": {
     "end_time": "2024-08-22T18:30:12.258740Z",
     "start_time": "2024-08-22T18:30:06.066305Z"
    }
   },
   "outputs": [],
   "source": [
    "context: str = doc_name_only\n",
    "# question: str = input(f\"What is your question about {context}\")\n",
    "\n",
    "raw_question_list: list = [\n",
    "    'customer name apart of the contract',\n",
    "    'contract effective date',\n",
    "    'required notice time before non-renewal',\n",
    "]\n",
    "\n",
    "formatted_question_list: str = \"[\"\n",
    "for iter_n in range(len(raw_question_list)):\n",
    "    if iter_n < len(raw_question_list)-1:\n",
    "        formatted_question_list += str(raw_question_list[iter_n])+\", \"\n",
    "    else:\n",
    "        formatted_question_list += str(raw_question_list[iter_n])+\"]\"\n",
    "\n",
    "# formatted_question_list: str = f\"[{raw_question_list[0]}, {raw_question_list[1]}, {raw_question_list[2]}]\"\n",
    "\n",
    "memory = ConversationBufferMemory(memory_key=\"history\", \n",
    "                                  input_key=\"question\", \n",
    "                                  output_key='answer', \n",
    "                                  return_messages=True,\n",
    "                                  )\n",
    "\n",
    "llm = ChatOllama(model=\"llama3:latest\", \n",
    "                 temperature=0.0,\n",
    "                 format=\"json\",\n",
    "                 )\n",
    "\n",
    "chain = RetrievalQAWithSourcesChain.from_chain_type(\n",
    "    llm,\n",
    "    chain_type=\"stuff\", \n",
    "    retriever=retriever, \n",
    "    chain_type_kwargs={ \"prompt\": PROMPT },\n",
    "    memory=memory,\n",
    ")\n",
    "\n",
    "response = chain.invoke({'context': context, 'question': formatted_question_list})\n",
    "print(f\"Query list: {response['question']}\\nAnswer list: {response['answer']}\")"
   ]
  },
  {
   "cell_type": "code",
   "execution_count": null,
   "id": "cd41beb291ddf22b",
   "metadata": {
    "ExecuteTime": {
     "end_time": "2024-08-22T17:54:23.160206Z",
     "start_time": "2024-08-22T17:54:23.158105Z"
    }
   },
   "outputs": [],
   "source": []
  }
 ],
 "metadata": {
  "kernelspec": {
   "display_name": "Python 3",
   "language": "python",
   "name": "python3"
  },
  "language_info": {
   "codemirror_mode": {
    "name": "ipython",
    "version": 2
   },
   "file_extension": ".py",
   "mimetype": "text/x-python",
   "name": "python",
   "nbconvert_exporter": "python",
   "pygments_lexer": "ipython2",
   "version": "2.7.6"
  }
 },
 "nbformat": 4,
 "nbformat_minor": 5
}
